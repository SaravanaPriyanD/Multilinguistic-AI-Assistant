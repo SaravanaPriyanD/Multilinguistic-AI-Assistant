{
 "cells": [
  {
   "cell_type": "code",
   "execution_count": 1,
   "metadata": {},
   "outputs": [],
   "source": [
    "import os"
   ]
  },
  {
   "cell_type": "code",
   "execution_count": 2,
   "metadata": {},
   "outputs": [
    {
     "name": "stdout",
     "output_type": "stream",
     "text": [
      "perfect!!\n",
    
     ]
    }
   ],
   "source": [
    "from dotenv import load_dotenv\n",
    "import os\n",
    "\n",
    "print(\"perfect!!\")\n",
    "load_dotenv()\n",
    "\n",
    "GOOGLE_API_KEY=os.getenv(\"GOOGLE_API_KEY\")\n",
    "print(GOOGLE_API_KEY)\n",
    "os.environ[\"GOOGLE_API_KEY\"]=GOOGLE_API_KEY"
   ]
  },
  {
   "cell_type": "code",
   "execution_count": 3,
   "metadata": {},
   "outputs": [
    {
     "name": "stderr",
     "output_type": "stream",
     "text": [
      "c:\\Users\\sarav\\anaconda3\\envs\\llmapp\\lib\\site-packages\\tqdm\\auto.py:21: TqdmWarning: IProgress not found. Please update jupyter and ipywidgets. See https://ipywidgets.readthedocs.io/en/stable/user_install.html\n",
      "  from .autonotebook import tqdm as notebook_tqdm\n"
     ]
    }
   ],
   "source": [
    "# Import the Python SDK\n",
    "import google.generativeai as genai"
   ]
  },
  {
   "cell_type": "code",
   "execution_count": 4,
   "metadata": {},
   "outputs": [],
   "source": [
    "genai.configure(api_key=GOOGLE_API_KEY)"
   ]
  },
  {
   "cell_type": "code",
   "execution_count": 5,
   "metadata": {},
   "outputs": [],
   "source": [
    "model = genai.GenerativeModel('gemini-pro')"
   ]
  },
  {
   "cell_type": "code",
   "execution_count": 6,
   "metadata": {},
   "outputs": [
    {
     "name": "stdout",
     "output_type": "stream",
     "text": [
      "In the quaint town of Willow Creek, nestled amidst rolling hills and whispering willows, there lived an ordinary teenager named Ethan. Little did he know that his life was about to take an extraordinary turn.\n",
      "\n",
      "One fateful morning, as Ethan rummaged through his overflowing backpack, he stumbled upon an age-old satchel tucked away in the corner. Its weathered leather and intricate carvings hinted at a hidden past. Curiosity got the better of him, and he reached out to open it.\n",
      "\n",
      "As his fingers brushed against the clasp, the backpack suddenly sprang to life, its compartments glowing with an otherworldly luminescence. Ethan gasped in amazement as a deep, velvety voice whispered from within.\n",
      "\n",
      "\"Welcome, Ethan. I am Alaric, the Backpack of Infinite Wonder. I possess extraordinary powers beyond your wildest dreams.\"\n",
      "\n",
      "With trembling hands, Ethan gingerly explored the backpack's magical features. There was a never-ending supply of pencils that wrote flawless poems, a compass that pointed to hidden treasures, and a map that revealed secret paths unknown to mortals.\n",
      "\n",
      "For days, Ethan reveled in the marvels of Alaric. He used the backpack to excel in school, outsmart bullies, and uncover secrets that had been lost to time. However, with great power came great responsibility.\n",
      "\n",
      "One day, as Ethan ventured into the Enchanted Forest, he encountered a group of dangerous goblins. They demanded he hand over Alaric, threatening to steal its powers for evil. Ethan knew he couldn't let them get their hands on such a powerful artifact.\n",
      "\n",
      "With a surge of determination, Ethan summoned the backpack's true potential. The compartments opened wide, releasing a blinding light that illuminated the forest. From the depths of Alaric emerged a host of ethereal creatures, their fiery swords gleaming.\n",
      "\n",
      "The goblins were overwhelmed by sheer force and beauty. They fled into the darkness, vowing to never return. Ethan had triumphed over evil with the help of Alaric.\n",
      "\n",
      "From that day forward, Ethan used the Backpack of Infinite Wonder for the greater good. He helped those in need, protected the innocent, and unlocked the secrets of the universe. And as the years passed, the legend of Ethan and Alaric, the boy who wielded the magic backpack, was passed down through generations, inspiring countless others to embrace the wonders that lie hidden within the extraordinary.\n"
     ]
    }
   ],
   "source": [
    "response = model.generate_content(\"Write a story about a magic backpack.\")\n",
    "print(response.text)"
   ]
  },
  {
   "cell_type": "code",
   "execution_count": null,
   "metadata": {},
   "outputs": [],
   "source": []
  }
 ],
 "metadata": {
  "kernelspec": {
   "display_name": "llmapp",
   "language": "python",
   "name": "python3"
  },
  "language_info": {
   "codemirror_mode": {
    "name": "ipython",
    "version": 3
   },
   "file_extension": ".py",
   "mimetype": "text/x-python",
   "name": "python",
   "nbconvert_exporter": "python",
   "pygments_lexer": "ipython3",
   "version": "3.9.19"
  }
 },
 "nbformat": 4,
 "nbformat_minor": 2
}
